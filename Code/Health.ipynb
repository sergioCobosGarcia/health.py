{
 "cells": [
  {
   "cell_type": "code",
   "execution_count": 1,
   "metadata": {},
   "outputs": [
    {
     "data": {
      "text/plain": [
       "Text(0, 0.5, 'life_expectancy')"
      ]
     },
     "execution_count": 1,
     "metadata": {},
     "output_type": "execute_result"
    },
    {
     "data": {
      "image/png": "[encoded data removed]",
      "text/plain": [
       "<Figure size 432x288 with 1 Axes>"
      ]
     },
     "metadata": {
      "needs_background": "light"
     },
     "output_type": "display_data"
    }
   ],
   "source": [
    "import pandas as pd\n",
    "from pandas import DataFrame\n",
    "\n",
    "Data = pd.read_csv('Health.csv')\n",
    "  \n",
    "df = DataFrame(Data,columns=['country','year','status','life_expectancy','alcohol','percentage_expenditure','measles','bmi','polio','total_expenditure','gdp','population','schooling'])\n",
    "\n",
    "\n",
    "ax = df.plot(x=\"schooling\", y=\"life_expectancy\", style=\"o\")\n",
    "ax.set_ylabel(\"life_expectancy\")"
   ]
  },
  {
   "cell_type": "code",
   "execution_count": 2,
   "metadata": {},
   "outputs": [
    {
     "data": {
      "text/html": [
       "<table class=\"simpletable\">\n",
       "<caption>OLS Regression Results</caption>\n",
       "<tr>\n",
       "  <th>Dep. Variable:</th>            <td>y</td>        <th>  R-squared:         </th> <td>   0.315</td> \n",
       "</tr>\n",
       "<tr>\n",
       "  <th>Model:</th>                   <td>OLS</td>       <th>  Adj. R-squared:    </th> <td>   0.315</td> \n",
       "</tr>\n",
       "<tr>\n",
       "  <th>Method:</th>             <td>Least Squares</td>  <th>  F-statistic:       </th> <td>   1353.</td> \n",
       "</tr>\n",
       "<tr>\n",
       "  <th>Date:</th>             <td>Sat, 06 Jun 2020</td> <th>  Prob (F-statistic):</th> <td>7.16e-244</td>\n",
       "</tr>\n",
       "<tr>\n",
       "  <th>Time:</th>                 <td>20:05:41</td>     <th>  Log-Likelihood:    </th> <td> -10471.</td> \n",
       "</tr>\n",
       "<tr>\n",
       "  <th>No. Observations:</th>      <td>  2938</td>      <th>  AIC:               </th> <td>2.095e+04</td>\n",
       "</tr>\n",
       "<tr>\n",
       "  <th>Df Residuals:</th>          <td>  2936</td>      <th>  BIC:               </th> <td>2.096e+04</td>\n",
       "</tr>\n",
       "<tr>\n",
       "  <th>Df Model:</th>              <td>     1</td>      <th>                     </th>     <td> </td>    \n",
       "</tr>\n",
       "<tr>\n",
       "  <th>Covariance Type:</th>      <td>nonrobust</td>    <th>                     </th>     <td> </td>    \n",
       "</tr>\n",
       "</table>\n",
       "<table class=\"simpletable\">\n",
       "<tr>\n",
       "    <td></td>       <th>coef</th>     <th>std err</th>      <th>t</th>      <th>P>|t|</th>  <th>[0.025</th>    <th>0.975]</th>  \n",
       "</tr>\n",
       "<tr>\n",
       "  <th>const</th> <td>   53.5879</td> <td>    0.447</td> <td>  119.755</td> <td> 0.000</td> <td>   52.710</td> <td>   54.465</td>\n",
       "</tr>\n",
       "<tr>\n",
       "  <th>x1</th>    <td>    1.3597</td> <td>    0.037</td> <td>   36.777</td> <td> 0.000</td> <td>    1.287</td> <td>    1.432</td>\n",
       "</tr>\n",
       "</table>\n",
       "<table class=\"simpletable\">\n",
       "<tr>\n",
       "  <th>Omnibus:</th>       <td>1045.844</td> <th>  Durbin-Watson:     </th> <td>   0.497</td> \n",
       "</tr>\n",
       "<tr>\n",
       "  <th>Prob(Omnibus):</th>  <td> 0.000</td>  <th>  Jarque-Bera (JB):  </th> <td>17180.012</td>\n",
       "</tr>\n",
       "<tr>\n",
       "  <th>Skew:</th>           <td>-1.244</td>  <th>  Prob(JB):          </th> <td>    0.00</td> \n",
       "</tr>\n",
       "<tr>\n",
       "  <th>Kurtosis:</th>       <td>14.582</td>  <th>  Cond. No.          </th> <td>    34.6</td> \n",
       "</tr>\n",
       "</table><br/><br/>Warnings:<br/>[1] Standard Errors assume that the covariance matrix of the errors is correctly specified."
      ],
      "text/plain": [
       "<class 'statsmodels.iolib.summary.Summary'>\n",
       "\"\"\"\n",
       "                            OLS Regression Results                            \n",
       "==============================================================================\n",
       "Dep. Variable:                      y   R-squared:                       0.315\n",
       "Model:                            OLS   Adj. R-squared:                  0.315\n",
       "Method:                 Least Squares   F-statistic:                     1353.\n",
       "Date:                Sat, 06 Jun 2020   Prob (F-statistic):          7.16e-244\n",
       "Time:                        20:05:41   Log-Likelihood:                -10471.\n",
       "No. Observations:                2938   AIC:                         2.095e+04\n",
       "Df Residuals:                    2936   BIC:                         2.096e+04\n",
       "Df Model:                           1                                         \n",
       "Covariance Type:            nonrobust                                         \n",
       "==============================================================================\n",
       "                 coef    std err          t      P>|t|      [0.025      0.975]\n",
       "------------------------------------------------------------------------------\n",
       "const         53.5879      0.447    119.755      0.000      52.710      54.465\n",
       "x1             1.3597      0.037     36.777      0.000       1.287       1.432\n",
       "==============================================================================\n",
       "Omnibus:                     1045.844   Durbin-Watson:                   0.497\n",
       "Prob(Omnibus):                  0.000   Jarque-Bera (JB):            17180.012\n",
       "Skew:                          -1.244   Prob(JB):                         0.00\n",
       "Kurtosis:                      14.582   Cond. No.                         34.6\n",
       "==============================================================================\n",
       "\n",
       "Warnings:\n",
       "[1] Standard Errors assume that the covariance matrix of the errors is correctly specified.\n",
       "\"\"\""
      ]
     },
     "execution_count": 2,
     "metadata": {},
     "output_type": "execute_result"
    }
   ],
   "source": [
    "import statsmodels.api as sm #load the library and assigns a nickname\n",
    "X = df[[\"schooling\"]].values # the independent variable(s)\n",
    "X = sm.add_constant(X)  # add the intercept term\n",
    "y = df[\"life_expectancy\"].values # the dependent variable\n",
    "ols = sm.OLS(y, X).fit() # run the regression\n",
    "ols.summary()"
   ]
  },
  {
   "cell_type": "code",
   "execution_count": 3,
   "metadata": {},
   "outputs": [
    {
     "data": {
      "text/html": [
       "<table class=\"simpletable\">\n",
       "<caption>OLS Regression Results</caption>\n",
       "<tr>\n",
       "  <th>Dep. Variable:</th>            <td>y</td>        <th>  R-squared:         </th> <td>   0.381</td> \n",
       "</tr>\n",
       "<tr>\n",
       "  <th>Model:</th>                   <td>OLS</td>       <th>  Adj. R-squared:    </th> <td>   0.380</td> \n",
       "</tr>\n",
       "<tr>\n",
       "  <th>Method:</th>             <td>Least Squares</td>  <th>  F-statistic:       </th> <td>   451.7</td> \n",
       "</tr>\n",
       "<tr>\n",
       "  <th>Date:</th>             <td>Sat, 06 Jun 2020</td> <th>  Prob (F-statistic):</th> <td>1.21e-303</td>\n",
       "</tr>\n",
       "<tr>\n",
       "  <th>Time:</th>                 <td>20:05:57</td>     <th>  Log-Likelihood:    </th> <td> -10323.</td> \n",
       "</tr>\n",
       "<tr>\n",
       "  <th>No. Observations:</th>      <td>  2938</td>      <th>  AIC:               </th> <td>2.066e+04</td>\n",
       "</tr>\n",
       "<tr>\n",
       "  <th>Df Residuals:</th>          <td>  2933</td>      <th>  BIC:               </th> <td>2.069e+04</td>\n",
       "</tr>\n",
       "<tr>\n",
       "  <th>Df Model:</th>              <td>     4</td>      <th>                     </th>     <td> </td>    \n",
       "</tr>\n",
       "<tr>\n",
       "  <th>Covariance Type:</th>      <td>nonrobust</td>    <th>                     </th>     <td> </td>    \n",
       "</tr>\n",
       "</table>\n",
       "<table class=\"simpletable\">\n",
       "<tr>\n",
       "    <td></td>       <th>coef</th>     <th>std err</th>      <th>t</th>      <th>P>|t|</th>  <th>[0.025</th>    <th>0.975]</th>  \n",
       "</tr>\n",
       "<tr>\n",
       "  <th>const</th> <td>   54.6262</td> <td>    0.450</td> <td>  121.422</td> <td> 0.000</td> <td>   53.744</td> <td>   55.508</td>\n",
       "</tr>\n",
       "<tr>\n",
       "  <th>x1</th>    <td>    0.4338</td> <td>    0.039</td> <td>   10.982</td> <td> 0.000</td> <td>    0.356</td> <td>    0.511</td>\n",
       "</tr>\n",
       "<tr>\n",
       "  <th>x2</th>    <td>-5.201e-05</td> <td> 1.32e-05</td> <td>   -3.932</td> <td> 0.000</td> <td>-7.79e-05</td> <td>-2.61e-05</td>\n",
       "</tr>\n",
       "<tr>\n",
       "  <th>x3</th>    <td>    0.0001</td> <td> 1.25e-05</td> <td>   10.731</td> <td> 0.000</td> <td>    0.000</td> <td>    0.000</td>\n",
       "</tr>\n",
       "<tr>\n",
       "  <th>x4</th>    <td>    1.0394</td> <td>    0.040</td> <td>   26.162</td> <td> 0.000</td> <td>    0.961</td> <td>    1.117</td>\n",
       "</tr>\n",
       "</table>\n",
       "<table class=\"simpletable\">\n",
       "<tr>\n",
       "  <th>Omnibus:</th>       <td>1317.246</td> <th>  Durbin-Watson:     </th> <td>   0.607</td> \n",
       "</tr>\n",
       "<tr>\n",
       "  <th>Prob(Omnibus):</th>  <td> 0.000</td>  <th>  Jarque-Bera (JB):  </th> <td>20138.615</td>\n",
       "</tr>\n",
       "<tr>\n",
       "  <th>Skew:</th>           <td>-1.722</td>  <th>  Prob(JB):          </th> <td>    0.00</td> \n",
       "</tr>\n",
       "<tr>\n",
       "  <th>Kurtosis:</th>       <td>15.355</td>  <th>  Cond. No.          </th> <td>4.46e+04</td> \n",
       "</tr>\n",
       "</table><br/><br/>Warnings:<br/>[1] Standard Errors assume that the covariance matrix of the errors is correctly specified.<br/>[2] The condition number is large, 4.46e+04. This might indicate that there are<br/>strong multicollinearity or other numerical problems."
      ],
      "text/plain": [
       "<class 'statsmodels.iolib.summary.Summary'>\n",
       "\"\"\"\n",
       "                            OLS Regression Results                            \n",
       "==============================================================================\n",
       "Dep. Variable:                      y   R-squared:                       0.381\n",
       "Model:                            OLS   Adj. R-squared:                  0.380\n",
       "Method:                 Least Squares   F-statistic:                     451.7\n",
       "Date:                Sat, 06 Jun 2020   Prob (F-statistic):          1.21e-303\n",
       "Time:                        20:05:57   Log-Likelihood:                -10323.\n",
       "No. Observations:                2938   AIC:                         2.066e+04\n",
       "Df Residuals:                    2933   BIC:                         2.069e+04\n",
       "Df Model:                           4                                         \n",
       "Covariance Type:            nonrobust                                         \n",
       "==============================================================================\n",
       "                 coef    std err          t      P>|t|      [0.025      0.975]\n",
       "------------------------------------------------------------------------------\n",
       "const         54.6262      0.450    121.422      0.000      53.744      55.508\n",
       "x1             0.4338      0.039     10.982      0.000       0.356       0.511\n",
       "x2         -5.201e-05   1.32e-05     -3.932      0.000   -7.79e-05   -2.61e-05\n",
       "x3             0.0001   1.25e-05     10.731      0.000       0.000       0.000\n",
       "x4             1.0394      0.040     26.162      0.000       0.961       1.117\n",
       "==============================================================================\n",
       "Omnibus:                     1317.246   Durbin-Watson:                   0.607\n",
       "Prob(Omnibus):                  0.000   Jarque-Bera (JB):            20138.615\n",
       "Skew:                          -1.722   Prob(JB):                         0.00\n",
       "Kurtosis:                      15.355   Cond. No.                     4.46e+04\n",
       "==============================================================================\n",
       "\n",
       "Warnings:\n",
       "[1] Standard Errors assume that the covariance matrix of the errors is correctly specified.\n",
       "[2] The condition number is large, 4.46e+04. This might indicate that there are\n",
       "strong multicollinearity or other numerical problems.\n",
       "\"\"\""
      ]
     },
     "execution_count": 3,
     "metadata": {},
     "output_type": "execute_result"
    }
   ],
   "source": [
    "X = df[['alcohol','measles','gdp','schooling']].values # the independent variable(s)\n",
    "X = sm.add_constant(X)  # add the intercept term\n",
    "y = df[\"life_expectancy\"].values # the dependent variable\n",
    "ols = sm.OLS(y, X).fit() # run the regression\n",
    "ols.summary()"
   ]
  },
  {
   "cell_type": "code",
   "execution_count": null,
   "metadata": {},
   "outputs": [],
   "source": []
  }
 ],
 "metadata": {
  "kernelspec": {
   "display_name": "Python 3",
   "language": "python",
   "name": "python3"
  },
  "language_info": {
   "codemirror_mode": {
    "name": "ipython",
    "version": 3
   },
   "file_extension": ".py",
   "mimetype": "text/x-python",
   "name": "python",
   "nbconvert_exporter": "python",
   "pygments_lexer": "ipython3",
   "version": "3.7.6"
  }
 },
 "nbformat": 4,
 "nbformat_minor": 4
}
